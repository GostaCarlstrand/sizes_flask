{
 "cells": [
  {
   "cell_type": "code",
   "execution_count": 112,
   "metadata": {
    "collapsed": true
   },
   "outputs": [],
   "source": [
    "import pandas as pd\n",
    "\n",
    "org_df = pd.read_csv('./org_csv/male.csv')"
   ]
  },
  {
   "cell_type": "code",
   "execution_count": 113,
   "outputs": [
    {
     "data": {
      "text/plain": "   subjectid  abdominalextensiondepthsitting  acromialheight  \\\n0      10027                             266            1467   \n1      10032                             233            1395   \n2      10033                             287            1430   \n3      10092                             234            1347   \n4      10093                             250            1585   \n\n   acromionradialelength  anklecircumference  axillaheight  \\\n0                    337                 222          1347   \n1                    326                 220          1293   \n2                    341                 230          1327   \n3                    310                 230          1239   \n4                    372                 247          1478   \n\n   balloffootcircumference  balloffootlength  biacromialbreadth  \\\n0                      253               202                401   \n1                      245               193                394   \n2                      256               196                427   \n3                      262               199                401   \n4                      267               224                435   \n\n   bicepscircumferenceflexed  ...                  Branch  PrimaryMOS  \\\n0                        369  ...             Combat Arms         19D   \n1                        338  ...          Combat Support         68W   \n2                        408  ...          Combat Support         68W   \n3                        359  ...  Combat Service Support         88M   \n4                        356  ...  Combat Service Support         92G   \n\n   SubjectsBirthLocation  SubjectNumericRace  Ethnicity  DODRace  Age  \\\n0           North Dakota                   1        NaN        1   41   \n1               New York                   1        NaN        1   35   \n2               New York                   2        NaN        2   42   \n3              Wisconsin                   1        NaN        1   31   \n4         North Carolina                   2        NaN        2   21   \n\n   Heightin  Weightlbs  WritingPreference  \n0        71        180         Right hand  \n1        68        160          Left hand  \n2        68        205          Left hand  \n3        66        175         Right hand  \n4        77        213         Right hand  \n\n[5 rows x 108 columns]",
      "text/html": "<div>\n<style scoped>\n    .dataframe tbody tr th:only-of-type {\n        vertical-align: middle;\n    }\n\n    .dataframe tbody tr th {\n        vertical-align: top;\n    }\n\n    .dataframe thead th {\n        text-align: right;\n    }\n</style>\n<table border=\"1\" class=\"dataframe\">\n  <thead>\n    <tr style=\"text-align: right;\">\n      <th></th>\n      <th>subjectid</th>\n      <th>abdominalextensiondepthsitting</th>\n      <th>acromialheight</th>\n      <th>acromionradialelength</th>\n      <th>anklecircumference</th>\n      <th>axillaheight</th>\n      <th>balloffootcircumference</th>\n      <th>balloffootlength</th>\n      <th>biacromialbreadth</th>\n      <th>bicepscircumferenceflexed</th>\n      <th>...</th>\n      <th>Branch</th>\n      <th>PrimaryMOS</th>\n      <th>SubjectsBirthLocation</th>\n      <th>SubjectNumericRace</th>\n      <th>Ethnicity</th>\n      <th>DODRace</th>\n      <th>Age</th>\n      <th>Heightin</th>\n      <th>Weightlbs</th>\n      <th>WritingPreference</th>\n    </tr>\n  </thead>\n  <tbody>\n    <tr>\n      <th>0</th>\n      <td>10027</td>\n      <td>266</td>\n      <td>1467</td>\n      <td>337</td>\n      <td>222</td>\n      <td>1347</td>\n      <td>253</td>\n      <td>202</td>\n      <td>401</td>\n      <td>369</td>\n      <td>...</td>\n      <td>Combat Arms</td>\n      <td>19D</td>\n      <td>North Dakota</td>\n      <td>1</td>\n      <td>NaN</td>\n      <td>1</td>\n      <td>41</td>\n      <td>71</td>\n      <td>180</td>\n      <td>Right hand</td>\n    </tr>\n    <tr>\n      <th>1</th>\n      <td>10032</td>\n      <td>233</td>\n      <td>1395</td>\n      <td>326</td>\n      <td>220</td>\n      <td>1293</td>\n      <td>245</td>\n      <td>193</td>\n      <td>394</td>\n      <td>338</td>\n      <td>...</td>\n      <td>Combat Support</td>\n      <td>68W</td>\n      <td>New York</td>\n      <td>1</td>\n      <td>NaN</td>\n      <td>1</td>\n      <td>35</td>\n      <td>68</td>\n      <td>160</td>\n      <td>Left hand</td>\n    </tr>\n    <tr>\n      <th>2</th>\n      <td>10033</td>\n      <td>287</td>\n      <td>1430</td>\n      <td>341</td>\n      <td>230</td>\n      <td>1327</td>\n      <td>256</td>\n      <td>196</td>\n      <td>427</td>\n      <td>408</td>\n      <td>...</td>\n      <td>Combat Support</td>\n      <td>68W</td>\n      <td>New York</td>\n      <td>2</td>\n      <td>NaN</td>\n      <td>2</td>\n      <td>42</td>\n      <td>68</td>\n      <td>205</td>\n      <td>Left hand</td>\n    </tr>\n    <tr>\n      <th>3</th>\n      <td>10092</td>\n      <td>234</td>\n      <td>1347</td>\n      <td>310</td>\n      <td>230</td>\n      <td>1239</td>\n      <td>262</td>\n      <td>199</td>\n      <td>401</td>\n      <td>359</td>\n      <td>...</td>\n      <td>Combat Service Support</td>\n      <td>88M</td>\n      <td>Wisconsin</td>\n      <td>1</td>\n      <td>NaN</td>\n      <td>1</td>\n      <td>31</td>\n      <td>66</td>\n      <td>175</td>\n      <td>Right hand</td>\n    </tr>\n    <tr>\n      <th>4</th>\n      <td>10093</td>\n      <td>250</td>\n      <td>1585</td>\n      <td>372</td>\n      <td>247</td>\n      <td>1478</td>\n      <td>267</td>\n      <td>224</td>\n      <td>435</td>\n      <td>356</td>\n      <td>...</td>\n      <td>Combat Service Support</td>\n      <td>92G</td>\n      <td>North Carolina</td>\n      <td>2</td>\n      <td>NaN</td>\n      <td>2</td>\n      <td>21</td>\n      <td>77</td>\n      <td>213</td>\n      <td>Right hand</td>\n    </tr>\n  </tbody>\n</table>\n<p>5 rows × 108 columns</p>\n</div>"
     },
     "execution_count": 113,
     "metadata": {},
     "output_type": "execute_result"
    }
   ],
   "source": [
    "org_df.head()\n",
    "Heightin\n",
    "Weightlbs"
   ],
   "metadata": {
    "collapsed": false,
    "pycharm": {
     "name": "#%%\n"
    }
   }
  },
  {
   "cell_type": "code",
   "execution_count": 15,
   "outputs": [],
   "source": [
    "col_chest = org_df.head(5)['chestcircumference']/10"
   ],
   "metadata": {
    "collapsed": false,
    "pycharm": {
     "name": "#%%\n"
    }
   }
  },
  {
   "cell_type": "code",
   "execution_count": 13,
   "outputs": [],
   "source": [
    "col_waist = org_df.head(5)['waistcircumference']/10"
   ],
   "metadata": {
    "collapsed": false,
    "pycharm": {
     "name": "#%%\n"
    }
   }
  },
  {
   "cell_type": "code",
   "execution_count": 122,
   "outputs": [],
   "source": [
    "col_weight = org_df.head(5)['Weightlbs']*0.45359237"
   ],
   "metadata": {
    "collapsed": false,
    "pycharm": {
     "name": "#%%\n"
    }
   }
  },
  {
   "cell_type": "code",
   "execution_count": 123,
   "outputs": [],
   "source": [
    "col_height = org_df.head(5)['Heightin']*2.54"
   ],
   "metadata": {
    "collapsed": false,
    "pycharm": {
     "name": "#%%\n"
    }
   }
  },
  {
   "cell_type": "code",
   "execution_count": 120,
   "outputs": [],
   "source": [
    "col_gender = org_df.head(5)['Gender']"
   ],
   "metadata": {
    "collapsed": false,
    "pycharm": {
     "name": "#%%\n"
    }
   }
  },
  {
   "cell_type": "code",
   "execution_count": 129,
   "outputs": [
    {
     "name": "stdout",
     "output_type": "stream",
     "text": [
      "   chestcircumference  waistcircumference Gender  HeightCm   WeightKg\n",
      "0               107.4                93.3   Male    180.34  81.646627\n",
      "1               102.1                87.0   Male    172.72  72.574779\n",
      "2               112.0                96.4   Male    172.72  92.986436\n",
      "3               111.4                85.7   Male    167.64  79.378665\n",
      "4               104.8                86.8   Male    195.58  96.615175\n"
     ]
    }
   ],
   "source": [
    "new_df = pd.concat([col_chest, col_waist, col_gender, col_height, col_weight], axis=1)\n",
    "new_df.rename(columns={'Weightlbs':'WeightKg', 'Heightin': 'HeightCm'}, inplace=True)\n",
    "print(new_df)"
   ],
   "metadata": {
    "collapsed": false,
    "pycharm": {
     "name": "#%%\n"
    }
   }
  },
  {
   "cell_type": "code",
   "execution_count": 106,
   "outputs": [],
   "source": [
    "sizes_values = {\n",
    "    'XS': 0,\n",
    "    'S': 1,\n",
    "    'M': 2,\n",
    "    'L': 3,\n",
    "    'XL': 4,\n",
    "    'XXL': 5\n",
    "}\n",
    "class CM:\n",
    "    XS = (0, 90)\n",
    "    S = (91, 96)\n",
    "    M = (96, 101)\n",
    "    L = (101, 106)\n",
    "    XL = (106, 111)\n",
    "    XXL = (111,150)\n",
    "\n",
    "class WM:\n",
    "    XS = (0, 78)\n",
    "    S = (79, 84)\n",
    "    M = (84, 89)\n",
    "    L = (89, 94)\n",
    "    XL = (94, 99)\n",
    "    XXL = (99, 120)\n",
    "\n",
    "class CF:\n",
    "    XS = (81, 85)\n",
    "    S = (85, 89)\n",
    "    M = (89, 94)\n",
    "    L = (94, 99)\n",
    "    XL = (99,104)\n",
    "    XXL = (104, 150)\n",
    "\n",
    "class WF:\n",
    "    XS = (63, 68)\n",
    "    S = (68, 73)\n",
    "    M = (73, 78)\n",
    "    L = (78, 83)\n",
    "    XL = (83, 88)\n",
    "    XXL = (88, 120)\n",
    "\n",
    "\n",
    "def chest_size_value(chest_c, waist_c, gender, **kwargs):\n",
    "    # CM and CF - ChestMale, ChestFemale\n",
    "    # WM and WF - WaistMale, WaistFemale\n",
    "    # g_class - gender class\n",
    "    if gender == 'Male' and kwargs['chest']:\n",
    "        g_class = CM\n",
    "        body_c = chest_c\n",
    "    elif gender == 'Male':\n",
    "        g_class = WM\n",
    "        body_c = waist_c\n",
    "    if gender == 'Female' and kwargs['chest']:\n",
    "        g_class = CF\n",
    "        body_c = chest_c\n",
    "    elif gender == 'Female':\n",
    "        g_class = WF\n",
    "        body_c = waist_c\n",
    "\n",
    "    if body_c > (max(g_class.M)):\n",
    "        if body_c > (max(g_class.XL)):\n",
    "            return sizes_values['XXL']\n",
    "        elif body_c < (min(g_class.XL)):\n",
    "            return sizes_values['L']\n",
    "        else:\n",
    "            return sizes_values['XL']\n",
    "    elif body_c > (max(g_class.S)):\n",
    "        return sizes_values['M']\n",
    "    elif body_c < (min(g_class.S)):\n",
    "        return sizes_values['XS']\n",
    "    else:\n",
    "        return sizes_values['S']\n",
    "\n",
    "\n",
    "def size(chest_c, waist_c, gender):\n",
    "    values_sizes = {\n",
    "    0: 'XS',\n",
    "    1: 'S',\n",
    "    2: 'M',\n",
    "    3: 'L',\n",
    "    4 :'XL',\n",
    "    5: 'XXL'\n",
    "    }\n",
    "    chest_size_c_value = chest_size_value(chest_c, waist_c, gender, chest=True)\n",
    "    chest_size_w_value = chest_size_value(chest_c, waist_c, gender, chest=False)\n",
    "    person_size = values_sizes[max(chest_size_w_value, chest_size_c_value)]\n",
    "    return person_size\n",
    "\n",
    "\n",
    "class Person:\n",
    "    def __init__(self, chest_c, waist_c, gender, weight, height):\n",
    "        self.chest_c = chest_c\n",
    "        self.waist_c = waist_c\n",
    "        self.gender = gender\n",
    "        self.size = size(chest_c, waist_c, gender)\n",
    "\n"
   ],
   "metadata": {
    "collapsed": false,
    "pycharm": {
     "name": "#%%\n"
    }
   }
  },
  {
   "cell_type": "code",
   "execution_count": 108,
   "outputs": [
    {
     "data": {
      "text/plain": "   chestcircumference  waistcircumference Gender\n0               107.4                93.3   Male\n1               102.1                87.0   Male\n2               112.0                96.4   Male\n3               111.4                85.7   Male\n4               104.8                86.8   Male",
      "text/html": "<div>\n<style scoped>\n    .dataframe tbody tr th:only-of-type {\n        vertical-align: middle;\n    }\n\n    .dataframe tbody tr th {\n        vertical-align: top;\n    }\n\n    .dataframe thead th {\n        text-align: right;\n    }\n</style>\n<table border=\"1\" class=\"dataframe\">\n  <thead>\n    <tr style=\"text-align: right;\">\n      <th></th>\n      <th>chestcircumference</th>\n      <th>waistcircumference</th>\n      <th>Gender</th>\n    </tr>\n  </thead>\n  <tbody>\n    <tr>\n      <th>0</th>\n      <td>107.4</td>\n      <td>93.3</td>\n      <td>Male</td>\n    </tr>\n    <tr>\n      <th>1</th>\n      <td>102.1</td>\n      <td>87.0</td>\n      <td>Male</td>\n    </tr>\n    <tr>\n      <th>2</th>\n      <td>112.0</td>\n      <td>96.4</td>\n      <td>Male</td>\n    </tr>\n    <tr>\n      <th>3</th>\n      <td>111.4</td>\n      <td>85.7</td>\n      <td>Male</td>\n    </tr>\n    <tr>\n      <th>4</th>\n      <td>104.8</td>\n      <td>86.8</td>\n      <td>Male</td>\n    </tr>\n  </tbody>\n</table>\n</div>"
     },
     "execution_count": 108,
     "metadata": {},
     "output_type": "execute_result"
    }
   ],
   "source": [
    "new_df"
   ],
   "metadata": {
    "collapsed": false,
    "pycharm": {
     "name": "#%%\n"
    }
   }
  },
  {
   "cell_type": "code",
   "execution_count": 109,
   "outputs": [
    {
     "name": "stdout",
     "output_type": "stream",
     "text": [
      "XL\n",
      "L\n",
      "XXL\n",
      "XXL\n",
      "L\n"
     ]
    }
   ],
   "source": [
    "df = new_df.reset_index()  # make sure indexes pair with number of rows\n",
    "persons = []\n",
    "for index, row in df.iterrows():\n",
    "    persons.append(Person(row['chestcircumference'], row['waistcircumference'], row['Gender']))\n",
    "\n",
    "\n",
    "for person in persons:\n",
    "    print(person.size)\n"
   ],
   "metadata": {
    "collapsed": false,
    "pycharm": {
     "name": "#%%\n"
    }
   }
  }
 ],
 "metadata": {
  "kernelspec": {
   "display_name": "Python 3",
   "language": "python",
   "name": "python3"
  },
  "language_info": {
   "codemirror_mode": {
    "name": "ipython",
    "version": 2
   },
   "file_extension": ".py",
   "mimetype": "text/x-python",
   "name": "python",
   "nbconvert_exporter": "python",
   "pygments_lexer": "ipython2",
   "version": "2.7.6"
  }
 },
 "nbformat": 4,
 "nbformat_minor": 0
}