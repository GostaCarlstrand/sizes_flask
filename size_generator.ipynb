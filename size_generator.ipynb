{
 "cells": [
  {
   "cell_type": "code",
   "execution_count": 1,
   "metadata": {
    "collapsed": true
   },
   "outputs": [],
   "source": [
    "import pandas as pd\n",
    "\n",
    "df = pd.read_csv('./org_csv/male.csv')"
   ]
  },
  {
   "cell_type": "code",
   "execution_count": 38,
   "outputs": [
    {
     "data": {
      "text/plain": "0       True\n1       True\n2       True\n3       True\n4       True\n        ... \n4077    True\n4078    True\n4079    True\n4080    True\n4081    True\nName: Gender, Length: 4082, dtype: bool"
     },
     "execution_count": 38,
     "metadata": {},
     "output_type": "execute_result"
    }
   ],
   "source": [
    "temp_df = df['Gender'] == 'Male'\n",
    "temp_df"
   ],
   "metadata": {
    "collapsed": false,
    "pycharm": {
     "name": "#%%\n"
    }
   }
  },
  {
   "cell_type": "code",
   "execution_count": 15,
   "outputs": [],
   "source": [
    "col_chest = df.head(5)['chestcircumference']/10"
   ],
   "metadata": {
    "collapsed": false,
    "pycharm": {
     "name": "#%%\n"
    }
   }
  },
  {
   "cell_type": "code",
   "execution_count": 13,
   "outputs": [],
   "source": [
    "col_waist = df.head(5)['waistcircumference']/10"
   ],
   "metadata": {
    "collapsed": false,
    "pycharm": {
     "name": "#%%\n"
    }
   }
  },
  {
   "cell_type": "code",
   "execution_count": 40,
   "outputs": [
    {
     "name": "stdout",
     "output_type": "stream",
     "text": [
      "0    Male\n",
      "1    Male\n",
      "2    Male\n",
      "3    Male\n",
      "4    Male\n",
      "Name: Gender, dtype: object\n"
     ]
    }
   ],
   "source": [
    "col_gender = df.head(5)['Gender']\n",
    "print(col_gender)"
   ],
   "metadata": {
    "collapsed": false,
    "pycharm": {
     "name": "#%%\n"
    }
   }
  },
  {
   "cell_type": "code",
   "execution_count": 41,
   "outputs": [
    {
     "name": "stdout",
     "output_type": "stream",
     "text": [
      "   chestcircumference  waistcircumference Gender\n",
      "0               107.4                93.3   Male\n",
      "1               102.1                87.0   Male\n",
      "2               112.0                96.4   Male\n",
      "3               111.4                85.7   Male\n",
      "4               104.8                86.8   Male\n"
     ]
    }
   ],
   "source": [
    "new_df = pd.concat([col_chest, col_waist, col_gender], axis=1)\n",
    "print(new_df)"
   ],
   "metadata": {
    "collapsed": false,
    "pycharm": {
     "name": "#%%\n"
    }
   }
  },
  {
   "cell_type": "code",
   "execution_count": 73,
   "outputs": [],
   "source": [
    "sizes_values = {\n",
    "    'XS': 0,\n",
    "    'S': 1,\n",
    "    'M': 2,\n",
    "    'L': 3,\n",
    "    'XL': 4,\n",
    "    'XXL': 5\n",
    "}\n",
    "class CM:\n",
    "    XS = (0, 90)\n",
    "    S = (91, 96)\n",
    "    M = (96, 101)\n",
    "    L = (101, 106)\n",
    "    XL = (106, 111)\n",
    "    XXL = (111,150)\n",
    "\n",
    "class WM:\n",
    "    XS = (0, 78)\n",
    "    S = (79, 84)\n",
    "    M = (84, 89)\n",
    "    L = (89, 94)\n",
    "    XL = (94, 99)\n",
    "    XXL = (99, 120)\n",
    "\n",
    "class CF:\n",
    "    XS = (81, 85)\n",
    "    S = (85, 89)\n",
    "    M = (89, 94)\n",
    "    L = (94, 99)\n",
    "    XL = (99,104)\n",
    "    XXL = (104, 150)\n",
    "\n",
    "class WF:\n",
    "    XS = (63, 68)\n",
    "    S = (68, 73)\n",
    "    M = (73, 78)\n",
    "    L = (78, 83)\n",
    "    XL = (83, 88)\n",
    "    XXL = (88, 120)\n",
    "\n",
    "\n",
    "def chest_size_value(chest_c, waist_c, gender, **kwargs):\n",
    "    # CM and CF - ChestMale, ChestFemale\n",
    "    # WM and WF - WaistMale, WaistFemale\n",
    "    # g_class - gender class\n",
    "    if gender == 'Male' and kwargs['chest']:\n",
    "        g_class = CM\n",
    "        body_c = chest_c\n",
    "    else:\n",
    "        g_class = WM\n",
    "        body_c = waist_c\n",
    "    if gender == 'Female' and kwargs['chest']:\n",
    "        g_class = CF\n",
    "        body_c = chest_c\n",
    "    else:\n",
    "        g_class = WF\n",
    "        body_c = waist_c\n",
    "\n",
    "    if body_c > (max(g_class.M)):\n",
    "        if body_c > (max(g_class.XL)):\n",
    "            return sizes_values['XXL']\n",
    "        elif body_c < (min(g_class.XL)):\n",
    "            return sizes_values['L']\n",
    "        else:\n",
    "            return sizes_values['XL']\n",
    "    elif body_c > (max(g_class.S)):\n",
    "        return sizes_values['M']\n",
    "    elif body_c < (min(g_class.S)):\n",
    "        return sizes_values['XS']\n",
    "    else:\n",
    "        return sizes_values['S']\n",
    "\n",
    "\n",
    "def size(chest_c, waist_c, gender):\n",
    "    values_sizes = {\n",
    "    0: 'XS',\n",
    "    1: 'S',\n",
    "    2: 'M',\n",
    "    3: 'L',\n",
    "    4 :'XL',\n",
    "    5: 'XXL'\n",
    "    }\n",
    "    # chest_size_c_value = chest_size_value(chest_c, waist_c, gender, chest=True)\n",
    "    chest_size_w_value = chest_size_value(chest_c, waist_c, gender, chest=False)\n",
    "    print(values_sizes[chest_size_w_value])\n",
    "    #print(values_sizes[chest_size_c_value])\n",
    "\n",
    "\n",
    "class Person:\n",
    "    def __init__(self, chest_c, waist_c, gender):\n",
    "        self.chest_c = chest_c\n",
    "        self.waist_c = waist_c\n",
    "        self.gender = gender\n",
    "        self.size = size(chest_c, waist_c, gender)\n",
    "\n",
    "\n",
    "p = Person(111, 93.3, 'Male')\n"
   ],
   "metadata": {
    "collapsed": false,
    "pycharm": {
     "name": "#%%\n"
    }
   }
  },
  {
   "cell_type": "code",
   "execution_count": 43,
   "outputs": [
    {
     "data": {
      "text/plain": "   chestcircumference  waistcircumference Gender\n0               107.4                93.3   Male\n1               102.1                87.0   Male\n2               112.0                96.4   Male\n3               111.4                85.7   Male\n4               104.8                86.8   Male",
      "text/html": "<div>\n<style scoped>\n    .dataframe tbody tr th:only-of-type {\n        vertical-align: middle;\n    }\n\n    .dataframe tbody tr th {\n        vertical-align: top;\n    }\n\n    .dataframe thead th {\n        text-align: right;\n    }\n</style>\n<table border=\"1\" class=\"dataframe\">\n  <thead>\n    <tr style=\"text-align: right;\">\n      <th></th>\n      <th>chestcircumference</th>\n      <th>waistcircumference</th>\n      <th>Gender</th>\n    </tr>\n  </thead>\n  <tbody>\n    <tr>\n      <th>0</th>\n      <td>107.4</td>\n      <td>93.3</td>\n      <td>Male</td>\n    </tr>\n    <tr>\n      <th>1</th>\n      <td>102.1</td>\n      <td>87.0</td>\n      <td>Male</td>\n    </tr>\n    <tr>\n      <th>2</th>\n      <td>112.0</td>\n      <td>96.4</td>\n      <td>Male</td>\n    </tr>\n    <tr>\n      <th>3</th>\n      <td>111.4</td>\n      <td>85.7</td>\n      <td>Male</td>\n    </tr>\n    <tr>\n      <th>4</th>\n      <td>104.8</td>\n      <td>86.8</td>\n      <td>Male</td>\n    </tr>\n  </tbody>\n</table>\n</div>"
     },
     "execution_count": 43,
     "metadata": {},
     "output_type": "execute_result"
    }
   ],
   "source": [
    "new_df"
   ],
   "metadata": {
    "collapsed": false,
    "pycharm": {
     "name": "#%%\n"
    }
   }
  },
  {
   "cell_type": "code",
   "execution_count": 71,
   "outputs": [
    {
     "name": "stdout",
     "output_type": "stream",
     "text": [
      "0\n"
     ]
    }
   ],
   "source": [],
   "metadata": {
    "collapsed": false,
    "pycharm": {
     "name": "#%%\n"
    }
   }
  },
  {
   "cell_type": "code",
   "execution_count": null,
   "outputs": [],
   "source": [],
   "metadata": {
    "collapsed": false,
    "pycharm": {
     "name": "#%%\n"
    }
   }
  }
 ],
 "metadata": {
  "kernelspec": {
   "display_name": "Python 3",
   "language": "python",
   "name": "python3"
  },
  "language_info": {
   "codemirror_mode": {
    "name": "ipython",
    "version": 2
   },
   "file_extension": ".py",
   "mimetype": "text/x-python",
   "name": "python",
   "nbconvert_exporter": "python",
   "pygments_lexer": "ipython2",
   "version": "2.7.6"
  }
 },
 "nbformat": 4,
 "nbformat_minor": 0
}