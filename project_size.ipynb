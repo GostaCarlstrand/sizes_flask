{
 "cells": [
  {
   "cell_type": "code",
   "execution_count": 4,
   "metadata": {
    "collapsed": true
   },
   "outputs": [],
   "source": [
    "import pandas as pd\n",
    "\n",
    "data = {'Unemployment_Rate': [6.1,5.8,5.7,5.7,5.8,5.6,5.5,5.3,5.2,5.2],\n",
    "        'Stock_Index_Price': [1500,1520,1525,1523,1515,1540,1545,1560,1555,1565]\n",
    "       }\n",
    "\n",
    "df = pd.DataFrame(data,columns=['Unemployment_Rate','Stock_Index_Price'])\n"
   ]
  },
  {
   "cell_type": "code",
   "execution_count": 6,
   "outputs": [
    {
     "data": {
      "text/plain": "   Unemployment_Rate  Stock_Index_Price\n0                6.1               1500\n1                5.8               1520\n2                5.7               1525\n3                5.7               1523\n4                5.8               1515",
      "text/html": "<div>\n<style scoped>\n    .dataframe tbody tr th:only-of-type {\n        vertical-align: middle;\n    }\n\n    .dataframe tbody tr th {\n        vertical-align: top;\n    }\n\n    .dataframe thead th {\n        text-align: right;\n    }\n</style>\n<table border=\"1\" class=\"dataframe\">\n  <thead>\n    <tr style=\"text-align: right;\">\n      <th></th>\n      <th>Unemployment_Rate</th>\n      <th>Stock_Index_Price</th>\n    </tr>\n  </thead>\n  <tbody>\n    <tr>\n      <th>0</th>\n      <td>6.1</td>\n      <td>1500</td>\n    </tr>\n    <tr>\n      <th>1</th>\n      <td>5.8</td>\n      <td>1520</td>\n    </tr>\n    <tr>\n      <th>2</th>\n      <td>5.7</td>\n      <td>1525</td>\n    </tr>\n    <tr>\n      <th>3</th>\n      <td>5.7</td>\n      <td>1523</td>\n    </tr>\n    <tr>\n      <th>4</th>\n      <td>5.8</td>\n      <td>1515</td>\n    </tr>\n  </tbody>\n</table>\n</div>"
     },
     "execution_count": 6,
     "metadata": {},
     "output_type": "execute_result"
    }
   ],
   "source": [
    "df.head()"
   ],
   "metadata": {
    "collapsed": false,
    "pycharm": {
     "name": "#%%\n"
    }
   }
  },
  {
   "cell_type": "code",
   "execution_count": 5,
   "outputs": [
    {
     "data": {
      "text/plain": "<AxesSubplot:xlabel='Unemployment_Rate', ylabel='Stock_Index_Price'>"
     },
     "execution_count": 5,
     "metadata": {},
     "output_type": "execute_result"
    },
    {
     "data": {
      "text/plain": "<Figure size 432x288 with 1 Axes>",
      "image/png": "[encoded data removed]"
     },
     "metadata": {
      "needs_background": "light"
     },
     "output_type": "display_data"
    }
   ],
   "source": [
    "df.plot(x ='Unemployment_Rate', y='Stock_Index_Price', kind = 'scatter')"
   ],
   "metadata": {
    "collapsed": false,
    "pycharm": {
     "name": "#%%\n"
    }
   }
  },
  {
   "cell_type": "code",
   "execution_count": 13,
   "outputs": [],
   "source": [
    "import pandas as pd\n",
    "\n",
    "org_df = pd.read_csv('./org_csv/male.csv')"
   ],
   "metadata": {
    "collapsed": false,
    "pycharm": {
     "name": "#%%\n"
    }
   }
  },
  {
   "cell_type": "code",
   "execution_count": 23,
   "outputs": [],
   "source": [
    "col_chest = org_df.head(50)['chestcircumference'] / 10\n",
    "col_waist = org_df.head(50)['waistcircumference'] / 10\n",
    "col_weight = org_df.head(50)['Weightlbs'] * 0.45359237\n",
    "col_height = org_df.head(50)['Heightin'] * 2.54\n",
    "col_gender = org_df.head(50)['Gender']\n",
    "new_df = pd.concat([col_chest, col_waist, col_gender, col_height, col_weight], axis=1)\n",
    "new_df.rename(columns={'Weightlbs': 'WeightKg', 'Heightin': 'HeightCm'}, inplace=True)"
   ],
   "metadata": {
    "collapsed": false,
    "pycharm": {
     "name": "#%%\n"
    }
   }
  },
  {
   "cell_type": "code",
   "execution_count": 24,
   "outputs": [
    {
     "data": {
      "text/plain": "<AxesSubplot:xlabel='WeightKg', ylabel='HeightCm'>"
     },
     "execution_count": 24,
     "metadata": {},
     "output_type": "execute_result"
    },
    {
     "data": {
      "text/plain": "<Figure size 432x288 with 1 Axes>",
      "image/png": "[encoded data removed]"
     },
     "metadata": {
      "needs_background": "light"
     },
     "output_type": "display_data"
    }
   ],
   "source": [
    "new_df.plot(x='WeightKg', y='HeightCm', kind='scatter')"
   ],
   "metadata": {
    "collapsed": false,
    "pycharm": {
     "name": "#%%\n"
    }
   }
  },
  {
   "cell_type": "code",
   "execution_count": 25,
   "outputs": [],
   "source": [
    "sizes_values = {\n",
    "    'XS': 0,\n",
    "    'S': 1,\n",
    "    'M': 2,\n",
    "    'L': 3,\n",
    "    'XL': 4,\n",
    "    'XXL': 5\n",
    "}\n",
    "\n",
    "\n",
    "class CM:\n",
    "    XS = (0, 90)\n",
    "    S = (91, 96)\n",
    "    M = (96, 101)\n",
    "    L = (101, 106)\n",
    "    XL = (106, 111)\n",
    "    XXL = (111, 150)\n",
    "\n",
    "\n",
    "class WM:\n",
    "    XS = (0, 78)\n",
    "    S = (79, 84)\n",
    "    M = (84, 89)\n",
    "    L = (89, 94)\n",
    "    XL = (94, 99)\n",
    "    XXL = (99, 120)\n",
    "\n",
    "\n",
    "class CF:\n",
    "    XS = (81, 85)\n",
    "    S = (85, 89)\n",
    "    M = (89, 94)\n",
    "    L = (94, 99)\n",
    "    XL = (99, 104)\n",
    "    XXL = (104, 150)\n",
    "\n",
    "\n",
    "class WF:\n",
    "    XS = (63, 68)\n",
    "    S = (68, 73)\n",
    "    M = (73, 78)\n",
    "    L = (78, 83)\n",
    "    XL = (83, 88)\n",
    "    XXL = (88, 120)\n",
    "\n",
    "\n",
    "def chest_size_value(chest_c, waist_c, gender, **kwargs):\n",
    "    # CM and CF - ChestMale, ChestFemale\n",
    "    # WM and WF - WaistMale, WaistFemale\n",
    "    # g_class - gender class\n",
    "    if gender == 'Male' and kwargs['chest']:\n",
    "        g_class = CM\n",
    "        body_c = chest_c\n",
    "    elif gender == 'Male':\n",
    "        g_class = WM\n",
    "        body_c = waist_c\n",
    "    if gender == 'Female' and kwargs['chest']:\n",
    "        g_class = CF\n",
    "        body_c = chest_c\n",
    "    elif gender == 'Female':\n",
    "        g_class = WF\n",
    "        body_c = waist_c\n",
    "\n",
    "    if body_c > (max(g_class.M)):\n",
    "        if body_c > (max(g_class.XL)):\n",
    "            return sizes_values['XXL']\n",
    "        elif body_c < (min(g_class.XL)):\n",
    "            return sizes_values['L']\n",
    "        else:\n",
    "            return sizes_values['XL']\n",
    "    elif body_c > (max(g_class.S)):\n",
    "        return sizes_values['M']\n",
    "    elif body_c < (min(g_class.S)):\n",
    "        return sizes_values['XS']\n",
    "    else:\n",
    "        return sizes_values['S']\n",
    "\n",
    "\n",
    "def size(chest_c, waist_c, gender):\n",
    "    values_sizes = {\n",
    "        0: 'XS',\n",
    "        1: 'S',\n",
    "        2: 'M',\n",
    "        3: 'L',\n",
    "        4: 'XL',\n",
    "        5: 'XXL'\n",
    "    }\n",
    "    chest_size_c_value = chest_size_value(chest_c, waist_c, gender, chest=True)\n",
    "    chest_size_w_value = chest_size_value(chest_c, waist_c, gender, chest=False)\n",
    "    person_size = values_sizes[max(chest_size_w_value, chest_size_c_value)]\n",
    "    return person_size\n",
    "\n",
    "\n",
    "class Person:\n",
    "    def __init__(self, chest_c, waist_c, gender, height, weight):\n",
    "        self.chest_c = chest_c\n",
    "        self.waist_c = waist_c\n",
    "        self.gender = gender\n",
    "        self.size = size(chest_c, waist_c, gender)\n",
    "        self.height = height\n",
    "        self.weight = weight\n",
    "\n",
    "\n"
   ],
   "metadata": {
    "collapsed": false,
    "pycharm": {
     "name": "#%%\n"
    }
   }
  },
  {
   "cell_type": "code",
   "execution_count": 26,
   "outputs": [],
   "source": [
    "\n",
    "h_w_df = pd.concat([col_height, col_weight], axis=1)\n",
    "h_w_df.rename(columns={'Weightlbs': 'WeightKg', 'Heightin': 'HeightCm'}, inplace=True)"
   ],
   "metadata": {
    "collapsed": false,
    "pycharm": {
     "name": "#%%\n"
    }
   }
  },
  {
   "cell_type": "code",
   "execution_count": 27,
   "outputs": [],
   "source": [
    "df = new_df.reset_index()  # make sure indexes pair with number of rows\n",
    "persons = []\n",
    "for index, row in new_df.iterrows():\n",
    "    persons.append(\n",
    "        Person(row['chestcircumference'], row['waistcircumference'], row['Gender'], row['HeightCm'], row['WeightKg']))"
   ],
   "metadata": {
    "collapsed": false,
    "pycharm": {
     "name": "#%%\n"
    }
   }
  },
  {
   "cell_type": "code",
   "execution_count": 28,
   "outputs": [
    {
     "data": {
      "text/plain": "   HeightCm   WeightKg\n0    180.34  81.646627\n1    172.72  72.574779\n2    172.72  92.986436\n3    167.64  79.378665\n4    195.58  96.615175",
      "text/html": "<div>\n<style scoped>\n    .dataframe tbody tr th:only-of-type {\n        vertical-align: middle;\n    }\n\n    .dataframe tbody tr th {\n        vertical-align: top;\n    }\n\n    .dataframe thead th {\n        text-align: right;\n    }\n</style>\n<table border=\"1\" class=\"dataframe\">\n  <thead>\n    <tr style=\"text-align: right;\">\n      <th></th>\n      <th>HeightCm</th>\n      <th>WeightKg</th>\n    </tr>\n  </thead>\n  <tbody>\n    <tr>\n      <th>0</th>\n      <td>180.34</td>\n      <td>81.646627</td>\n    </tr>\n    <tr>\n      <th>1</th>\n      <td>172.72</td>\n      <td>72.574779</td>\n    </tr>\n    <tr>\n      <th>2</th>\n      <td>172.72</td>\n      <td>92.986436</td>\n    </tr>\n    <tr>\n      <th>3</th>\n      <td>167.64</td>\n      <td>79.378665</td>\n    </tr>\n    <tr>\n      <th>4</th>\n      <td>195.58</td>\n      <td>96.615175</td>\n    </tr>\n  </tbody>\n</table>\n</div>"
     },
     "execution_count": 28,
     "metadata": {},
     "output_type": "execute_result"
    }
   ],
   "source": [
    "h_w_df.head()"
   ],
   "metadata": {
    "collapsed": false,
    "pycharm": {
     "name": "#%%\n"
    }
   }
  },
  {
   "cell_type": "code",
   "execution_count": 29,
   "outputs": [
    {
     "data": {
      "text/plain": "<AxesSubplot:xlabel='WeightKg', ylabel='HeightCm'>"
     },
     "execution_count": 29,
     "metadata": {},
     "output_type": "execute_result"
    },
    {
     "data": {
      "text/plain": "<Figure size 432x288 with 1 Axes>",
      "image/png": "[encoded data removed]"
     },
     "metadata": {
      "needs_background": "light"
     },
     "output_type": "display_data"
    }
   ],
   "source": [
    "h_w_df.plot(x='WeightKg', y='HeightCm', kind='scatter')"
   ],
   "metadata": {
    "collapsed": false,
    "pycharm": {
     "name": "#%%\n"
    }
   }
  },
  {
   "cell_type": "code",
   "execution_count": 88,
   "outputs": [
    {
     "name": "stdout",
     "output_type": "stream",
     "text": [
      "\n"
     ]
    },
    {
     "ename": "TypeError",
     "evalue": "'float' object is not subscriptable",
     "output_type": "error",
     "traceback": [
      "\u001B[0;31m---------------------------------------------------------------------------\u001B[0m",
      "\u001B[0;31mTypeError\u001B[0m                                 Traceback (most recent call last)",
      "Input \u001B[0;32mIn [88]\u001B[0m, in \u001B[0;36m<cell line: 28>\u001B[0;34m()\u001B[0m\n\u001B[1;32m     25\u001B[0m         list_neighbors\u001B[38;5;241m.\u001B[39mappend(sorted_dis_values[i][\u001B[38;5;241m0\u001B[39m])\n\u001B[1;32m     26\u001B[0m     \u001B[38;5;28;01mreturn\u001B[39;00m list_neighbors\n\u001B[0;32m---> 28\u001B[0m neighbors \u001B[38;5;241m=\u001B[39m \u001B[43mget_neighbors\u001B[49m\u001B[43m(\u001B[49m\u001B[43mdf_list\u001B[49m\u001B[43m,\u001B[49m\u001B[43m \u001B[49m\u001B[43mdf_list\u001B[49m\u001B[43m[\u001B[49m\u001B[38;5;241;43m0\u001B[39;49m\u001B[43m]\u001B[49m\u001B[43m,\u001B[49m\u001B[43m \u001B[49m\u001B[38;5;241;43m3\u001B[39;49m\u001B[43m)\u001B[49m\n",
      "Input \u001B[0;32mIn [88]\u001B[0m, in \u001B[0;36mget_neighbors\u001B[0;34m(train, test_row, num_neighbors)\u001B[0m\n\u001B[1;32m     23\u001B[0m list_neighbors \u001B[38;5;241m=\u001B[39m \u001B[38;5;28mlist\u001B[39m()\n\u001B[1;32m     24\u001B[0m \u001B[38;5;28;01mfor\u001B[39;00m i \u001B[38;5;129;01min\u001B[39;00m \u001B[38;5;28mrange\u001B[39m(num_neighbors):\n\u001B[0;32m---> 25\u001B[0m     list_neighbors\u001B[38;5;241m.\u001B[39mappend(\u001B[43msorted_dis_values\u001B[49m\u001B[43m[\u001B[49m\u001B[43mi\u001B[49m\u001B[43m]\u001B[49m\u001B[43m[\u001B[49m\u001B[38;5;241;43m0\u001B[39;49m\u001B[43m]\u001B[49m)\n\u001B[1;32m     26\u001B[0m \u001B[38;5;28;01mreturn\u001B[39;00m list_neighbors\n",
      "\u001B[0;31mTypeError\u001B[0m: 'float' object is not subscriptable"
     ]
    }
   ],
   "source": [
    "from math import sqrt\n",
    "\n",
    "# calculate the Euclidean distance between two vectors\n",
    "def euclidean_distance(row1, row2):\n",
    "    distance = 0.0\n",
    "    for i in range(len(row1)):\n",
    "        distance += (row1[i] - row2[i])**2\n",
    "    return sqrt(distance)\n",
    "\n",
    "df_list = h_w_df.values.tolist()        #Dataframe to list\n",
    "\n",
    "row0 = df_list[0]       #Test row\n",
    "\n",
    "def get_neighbors(train, test_row, num_neighbors):\n",
    "    dis_values = list()\n",
    "    for train_row in train:\n",
    "        dis = euclidean_distance(test_row, train_row)\n",
    "        dis_values.append(dis)\n",
    "\n",
    "    #sorted_dis_values = sorted(dis_values, key = float)\n",
    "    sorted_dis_values = sorted(dis_values, key = lambda x:float(x))\n",
    "    print()\n",
    "    list_neighbors = list()\n",
    "    for i in range(num_neighbors):\n",
    "        list_neighbors.append(sorted_dis_values[i][0])\n",
    "    return list_neighbors\n",
    "\n",
    "neighbors = get_neighbors(df_list, df_list[0], 3)\n",
    "#print(neighbors)"
   ],
   "metadata": {
    "collapsed": false,
    "pycharm": {
     "name": "#%%\n"
    }
   }
  },
  {
   "cell_type": "code",
   "execution_count": 92,
   "outputs": [],
   "source": [],
   "metadata": {
    "collapsed": false,
    "pycharm": {
     "name": "#%%\n"
    }
   }
  },
  {
   "cell_type": "code",
   "execution_count": null,
   "outputs": [],
   "source": [],
   "metadata": {
    "collapsed": false,
    "pycharm": {
     "name": "#%%\n"
    }
   }
  }
 ],
 "metadata": {
  "kernelspec": {
   "display_name": "Python 3",
   "language": "python",
   "name": "python3"
  },
  "language_info": {
   "codemirror_mode": {
    "name": "ipython",
    "version": 2
   },
   "file_extension": ".py",
   "mimetype": "text/x-python",
   "name": "python",
   "nbconvert_exporter": "python",
   "pygments_lexer": "ipython2",
   "version": "2.7.6"
  }
 },
 "nbformat": 4,
 "nbformat_minor": 0
}