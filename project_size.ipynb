{
 "cells": [
  {
   "cell_type": "code",
   "execution_count": 206,
   "outputs": [],
   "source": [
    "import pandas as pd\n",
    "\n",
    "org_df = pd.read_csv('./org_csv/male.csv')"
   ],
   "metadata": {
    "collapsed": false,
    "pycharm": {
     "name": "#%%\n"
    }
   }
  },
  {
   "cell_type": "code",
   "execution_count": 207,
   "outputs": [],
   "source": [
    "col_chest = org_df.head(50)['chestcircumference'] / 10\n",
    "col_waist = org_df.head(50)['waistcircumference'] / 10\n",
    "col_weight = org_df.head(50)['Weightlbs'] * 0.45359237\n",
    "col_height = org_df.head(50)['Heightin'] * 2.54\n",
    "col_gender = org_df.head(50)['Gender']\n",
    "new_df = pd.concat([col_chest, col_waist, col_gender, col_height, col_weight], axis=1)\n",
    "new_df.rename(columns={'Weightlbs': 'WeightKg', 'Heightin': 'HeightCm'}, inplace=True)"
   ],
   "metadata": {
    "collapsed": false,
    "pycharm": {
     "name": "#%%\n"
    }
   }
  },
  {
   "cell_type": "code",
   "execution_count": 208,
   "outputs": [
    {
     "data": {
      "text/plain": "<AxesSubplot:xlabel='WeightKg', ylabel='HeightCm'>"
     },
     "execution_count": 208,
     "metadata": {},
     "output_type": "execute_result"
    },
    {
     "data": {
      "text/plain": "<Figure size 432x288 with 1 Axes>",
      "image/png": "[encoded data removed]"
     },
     "metadata": {
      "needs_background": "light"
     },
     "output_type": "display_data"
    }
   ],
   "source": [
    "new_df.plot(x='WeightKg', y='HeightCm', kind='scatter')"
   ],
   "metadata": {
    "collapsed": false,
    "pycharm": {
     "name": "#%%\n"
    }
   }
  },
  {
   "cell_type": "code",
   "execution_count": 227,
   "outputs": [],
   "source": [
    "sizes_values = {\n",
    "    'XS': 0,\n",
    "    'S': 1,\n",
    "    'M': 2,\n",
    "    'L': 3,\n",
    "    'XL': 4,\n",
    "    'XXL': 5\n",
    "}\n",
    "\n",
    "\n",
    "class CM:\n",
    "    XS = (0, 90)\n",
    "    S = (91, 96)\n",
    "    M = (96, 101)\n",
    "    L = (101, 106)\n",
    "    XL = (106, 111)\n",
    "    XXL = (111, 150)\n",
    "\n",
    "\n",
    "class WM:\n",
    "    XS = (0, 78)\n",
    "    S = (79, 84)\n",
    "    M = (84, 89)\n",
    "    L = (89, 94)\n",
    "    XL = (94, 99)\n",
    "    XXL = (99, 120)\n",
    "\n",
    "\n",
    "class CF:\n",
    "    XS = (81, 85)\n",
    "    S = (85, 89)\n",
    "    M = (89, 94)\n",
    "    L = (94, 99)\n",
    "    XL = (99, 104)\n",
    "    XXL = (104, 150)\n",
    "\n",
    "\n",
    "class WF:\n",
    "    XS = (63, 68)\n",
    "    S = (68, 73)\n",
    "    M = (73, 78)\n",
    "    L = (78, 83)\n",
    "    XL = (83, 88)\n",
    "    XXL = (88, 120)\n",
    "\n",
    "\n",
    "def chest_size_value(chest_c, waist_c, gender, **kwargs):\n",
    "    # CM and CF - ChestMale, ChestFemale\n",
    "    # WM and WF - WaistMale, WaistFemale\n",
    "    # g_class - gender class\n",
    "    if gender == 'Male' and kwargs['chest']:\n",
    "        g_class = CM\n",
    "        body_c = chest_c\n",
    "    elif gender == 'Male':\n",
    "        g_class = WM\n",
    "        body_c = waist_c\n",
    "    if gender == 'Female' and kwargs['chest']:\n",
    "        g_class = CF\n",
    "        body_c = chest_c\n",
    "    elif gender == 'Female':\n",
    "        g_class = WF\n",
    "        body_c = waist_c\n",
    "\n",
    "    if body_c > (max(g_class.M)):\n",
    "        if body_c > (max(g_class.XL)):\n",
    "            return sizes_values['XXL']\n",
    "        elif body_c < (min(g_class.XL)):\n",
    "            return sizes_values['L']\n",
    "        else:\n",
    "            return sizes_values['XL']\n",
    "    elif body_c > (max(g_class.S)):\n",
    "        return sizes_values['M']\n",
    "    elif body_c < (min(g_class.S)):\n",
    "        return sizes_values['XS']\n",
    "    else:\n",
    "        return sizes_values['S']\n",
    "\n",
    "\n",
    "values_sizes = {\n",
    "    0: 'XS',\n",
    "    1: 'S',\n",
    "    2: 'M',\n",
    "    3: 'L',\n",
    "    4: 'XL',\n",
    "    5: 'XXL'\n",
    "}\n",
    "def size(chest_c, waist_c, gender):\n",
    "    chest_size_c_value = chest_size_value(chest_c, waist_c, gender, chest=True)\n",
    "    chest_size_w_value = chest_size_value(chest_c, waist_c, gender, chest=False)\n",
    "    max_size_value = max(chest_size_w_value, chest_size_c_value)\n",
    "    person_size = values_sizes[max_size_value]\n",
    "    return person_size, max_size_value\n",
    "\n",
    "\n",
    "class Person:\n",
    "    def __init__(self, chest_c, waist_c, gender, height, weight):\n",
    "        self.chest_c = chest_c\n",
    "        self.waist_c = waist_c\n",
    "        self.gender = gender\n",
    "        self.size, self.size_value = size(chest_c, waist_c, gender)\n",
    "        self.height = height\n",
    "        self.weight = weight\n",
    "\n",
    "\n"
   ],
   "metadata": {
    "collapsed": false,
    "pycharm": {
     "name": "#%%\n"
    }
   }
  },
  {
   "cell_type": "code",
   "execution_count": 210,
   "outputs": [],
   "source": [
    "\n",
    "h_w_df = pd.concat([col_height, col_weight], axis=1)\n",
    "h_w_df.rename(columns={'Weightlbs': 'WeightKg', 'Heightin': 'HeightCm'}, inplace=True)"
   ],
   "metadata": {
    "collapsed": false,
    "pycharm": {
     "name": "#%%\n"
    }
   }
  },
  {
   "cell_type": "code",
   "execution_count": 211,
   "outputs": [],
   "source": [
    "df = new_df.reset_index()  # make sure indexes pair with number of rows\n",
    "persons = []\n",
    "for index, row in new_df.iterrows():\n",
    "    persons.append(\n",
    "        Person(row['chestcircumference'], row['waistcircumference'], row['Gender'], row['HeightCm'], row['WeightKg']))"
   ],
   "metadata": {
    "collapsed": false,
    "pycharm": {
     "name": "#%%\n"
    }
   }
  },
  {
   "cell_type": "code",
   "execution_count": 212,
   "outputs": [
    {
     "data": {
      "text/plain": "   HeightCm   WeightKg\n0    180.34  81.646627\n1    172.72  72.574779\n2    172.72  92.986436\n3    167.64  79.378665\n4    195.58  96.615175",
      "text/html": "<div>\n<style scoped>\n    .dataframe tbody tr th:only-of-type {\n        vertical-align: middle;\n    }\n\n    .dataframe tbody tr th {\n        vertical-align: top;\n    }\n\n    .dataframe thead th {\n        text-align: right;\n    }\n</style>\n<table border=\"1\" class=\"dataframe\">\n  <thead>\n    <tr style=\"text-align: right;\">\n      <th></th>\n      <th>HeightCm</th>\n      <th>WeightKg</th>\n    </tr>\n  </thead>\n  <tbody>\n    <tr>\n      <th>0</th>\n      <td>180.34</td>\n      <td>81.646627</td>\n    </tr>\n    <tr>\n      <th>1</th>\n      <td>172.72</td>\n      <td>72.574779</td>\n    </tr>\n    <tr>\n      <th>2</th>\n      <td>172.72</td>\n      <td>92.986436</td>\n    </tr>\n    <tr>\n      <th>3</th>\n      <td>167.64</td>\n      <td>79.378665</td>\n    </tr>\n    <tr>\n      <th>4</th>\n      <td>195.58</td>\n      <td>96.615175</td>\n    </tr>\n  </tbody>\n</table>\n</div>"
     },
     "execution_count": 212,
     "metadata": {},
     "output_type": "execute_result"
    }
   ],
   "source": [
    "h_w_df.head()"
   ],
   "metadata": {
    "collapsed": false,
    "pycharm": {
     "name": "#%%\n"
    }
   }
  },
  {
   "cell_type": "code",
   "execution_count": 213,
   "outputs": [
    {
     "data": {
      "text/plain": "<AxesSubplot:xlabel='WeightKg', ylabel='HeightCm'>"
     },
     "execution_count": 213,
     "metadata": {},
     "output_type": "execute_result"
    },
    {
     "data": {
      "text/plain": "<Figure size 432x288 with 1 Axes>",
      "image/png": "[encoded data removed]"
     },
     "metadata": {
      "needs_background": "light"
     },
     "output_type": "display_data"
    }
   ],
   "source": [
    "h_w_df.plot(x='WeightKg', y='HeightCm', kind='scatter')"
   ],
   "metadata": {
    "collapsed": false,
    "pycharm": {
     "name": "#%%\n"
    }
   }
  },
  {
   "cell_type": "code",
   "execution_count": 214,
   "outputs": [
    {
     "data": {
      "text/plain": "    HeightCm    WeightKg\n0     180.34   81.646627\n1     172.72   72.574779\n2     172.72   92.986436\n3     167.64   79.378665\n4     195.58   96.615175\n5     175.26   79.378665\n6     182.88  113.398093\n7     187.96   95.707990\n8     177.80   99.790321\n9     182.88   72.574779\n10    177.80   88.450512\n11    175.26   70.306817\n12    182.88  104.326245\n13    190.50  113.398093\n14    172.72   90.718474\n15    175.26   88.904105\n16    170.18   77.110703\n17    177.80   97.522360\n18    177.80   75.749926\n19    177.80   91.625659\n20    180.34   74.842741\n21    167.64   73.935556\n22    167.64   79.378665\n23    200.66   97.522360\n24    177.80   96.161582\n25    162.56   61.234970\n26    185.42  104.326245\n27    180.34   79.832257\n28    175.26   80.739442\n29    185.42   90.718474\n30    190.50   76.203518\n31    180.34   92.986436\n32    165.10   68.038855\n33    187.96   89.811289\n34    180.34   68.492448\n35    180.34   87.996920\n36    172.72   68.038855\n37    187.96  124.737902\n38    172.72   77.110703\n39    175.26   87.543327\n40    177.80   61.234970\n41    170.18   85.275366\n42    185.42   79.378665\n43    172.72   86.182550\n44    177.80   97.522360\n45    167.64   65.770894\n46    175.26   70.306817\n47    175.26   83.914588\n48    190.50  100.697506\n49    167.64   86.182550",
      "text/html": "<div>\n<style scoped>\n    .dataframe tbody tr th:only-of-type {\n        vertical-align: middle;\n    }\n\n    .dataframe tbody tr th {\n        vertical-align: top;\n    }\n\n    .dataframe thead th {\n        text-align: right;\n    }\n</style>\n<table border=\"1\" class=\"dataframe\">\n  <thead>\n    <tr style=\"text-align: right;\">\n      <th></th>\n      <th>HeightCm</th>\n      <th>WeightKg</th>\n    </tr>\n  </thead>\n  <tbody>\n    <tr>\n      <th>0</th>\n      <td>180.34</td>\n      <td>81.646627</td>\n    </tr>\n    <tr>\n      <th>1</th>\n      <td>172.72</td>\n      <td>72.574779</td>\n    </tr>\n    <tr>\n      <th>2</th>\n      <td>172.72</td>\n      <td>92.986436</td>\n    </tr>\n    <tr>\n      <th>3</th>\n      <td>167.64</td>\n      <td>79.378665</td>\n    </tr>\n    <tr>\n      <th>4</th>\n      <td>195.58</td>\n      <td>96.615175</td>\n    </tr>\n    <tr>\n      <th>5</th>\n      <td>175.26</td>\n      <td>79.378665</td>\n    </tr>\n    <tr>\n      <th>6</th>\n      <td>182.88</td>\n      <td>113.398093</td>\n    </tr>\n    <tr>\n      <th>7</th>\n      <td>187.96</td>\n      <td>95.707990</td>\n    </tr>\n    <tr>\n      <th>8</th>\n      <td>177.80</td>\n      <td>99.790321</td>\n    </tr>\n    <tr>\n      <th>9</th>\n      <td>182.88</td>\n      <td>72.574779</td>\n    </tr>\n    <tr>\n      <th>10</th>\n      <td>177.80</td>\n      <td>88.450512</td>\n    </tr>\n    <tr>\n      <th>11</th>\n      <td>175.26</td>\n      <td>70.306817</td>\n    </tr>\n    <tr>\n      <th>12</th>\n      <td>182.88</td>\n      <td>104.326245</td>\n    </tr>\n    <tr>\n      <th>13</th>\n      <td>190.50</td>\n      <td>113.398093</td>\n    </tr>\n    <tr>\n      <th>14</th>\n      <td>172.72</td>\n      <td>90.718474</td>\n    </tr>\n    <tr>\n      <th>15</th>\n      <td>175.26</td>\n      <td>88.904105</td>\n    </tr>\n    <tr>\n      <th>16</th>\n      <td>170.18</td>\n      <td>77.110703</td>\n    </tr>\n    <tr>\n      <th>17</th>\n      <td>177.80</td>\n      <td>97.522360</td>\n    </tr>\n    <tr>\n      <th>18</th>\n      <td>177.80</td>\n      <td>75.749926</td>\n    </tr>\n    <tr>\n      <th>19</th>\n      <td>177.80</td>\n      <td>91.625659</td>\n    </tr>\n    <tr>\n      <th>20</th>\n      <td>180.34</td>\n      <td>74.842741</td>\n    </tr>\n    <tr>\n      <th>21</th>\n      <td>167.64</td>\n      <td>73.935556</td>\n    </tr>\n    <tr>\n      <th>22</th>\n      <td>167.64</td>\n      <td>79.378665</td>\n    </tr>\n    <tr>\n      <th>23</th>\n      <td>200.66</td>\n      <td>97.522360</td>\n    </tr>\n    <tr>\n      <th>24</th>\n      <td>177.80</td>\n      <td>96.161582</td>\n    </tr>\n    <tr>\n      <th>25</th>\n      <td>162.56</td>\n      <td>61.234970</td>\n    </tr>\n    <tr>\n      <th>26</th>\n      <td>185.42</td>\n      <td>104.326245</td>\n    </tr>\n    <tr>\n      <th>27</th>\n      <td>180.34</td>\n      <td>79.832257</td>\n    </tr>\n    <tr>\n      <th>28</th>\n      <td>175.26</td>\n      <td>80.739442</td>\n    </tr>\n    <tr>\n      <th>29</th>\n      <td>185.42</td>\n      <td>90.718474</td>\n    </tr>\n    <tr>\n      <th>30</th>\n      <td>190.50</td>\n      <td>76.203518</td>\n    </tr>\n    <tr>\n      <th>31</th>\n      <td>180.34</td>\n      <td>92.986436</td>\n    </tr>\n    <tr>\n      <th>32</th>\n      <td>165.10</td>\n      <td>68.038855</td>\n    </tr>\n    <tr>\n      <th>33</th>\n      <td>187.96</td>\n      <td>89.811289</td>\n    </tr>\n    <tr>\n      <th>34</th>\n      <td>180.34</td>\n      <td>68.492448</td>\n    </tr>\n    <tr>\n      <th>35</th>\n      <td>180.34</td>\n      <td>87.996920</td>\n    </tr>\n    <tr>\n      <th>36</th>\n      <td>172.72</td>\n      <td>68.038855</td>\n    </tr>\n    <tr>\n      <th>37</th>\n      <td>187.96</td>\n      <td>124.737902</td>\n    </tr>\n    <tr>\n      <th>38</th>\n      <td>172.72</td>\n      <td>77.110703</td>\n    </tr>\n    <tr>\n      <th>39</th>\n      <td>175.26</td>\n      <td>87.543327</td>\n    </tr>\n    <tr>\n      <th>40</th>\n      <td>177.80</td>\n      <td>61.234970</td>\n    </tr>\n    <tr>\n      <th>41</th>\n      <td>170.18</td>\n      <td>85.275366</td>\n    </tr>\n    <tr>\n      <th>42</th>\n      <td>185.42</td>\n      <td>79.378665</td>\n    </tr>\n    <tr>\n      <th>43</th>\n      <td>172.72</td>\n      <td>86.182550</td>\n    </tr>\n    <tr>\n      <th>44</th>\n      <td>177.80</td>\n      <td>97.522360</td>\n    </tr>\n    <tr>\n      <th>45</th>\n      <td>167.64</td>\n      <td>65.770894</td>\n    </tr>\n    <tr>\n      <th>46</th>\n      <td>175.26</td>\n      <td>70.306817</td>\n    </tr>\n    <tr>\n      <th>47</th>\n      <td>175.26</td>\n      <td>83.914588</td>\n    </tr>\n    <tr>\n      <th>48</th>\n      <td>190.50</td>\n      <td>100.697506</td>\n    </tr>\n    <tr>\n      <th>49</th>\n      <td>167.64</td>\n      <td>86.182550</td>\n    </tr>\n  </tbody>\n</table>\n</div>"
     },
     "execution_count": 214,
     "metadata": {},
     "output_type": "execute_result"
    }
   ],
   "source": [
    "h_w_df"
   ],
   "metadata": {
    "collapsed": false,
    "pycharm": {
     "name": "#%%\n"
    }
   }
  },
  {
   "cell_type": "code",
   "execution_count": 231,
   "outputs": [],
   "source": [
    "from math import sqrt\n",
    "\n",
    "# calculate the Euclidean distance between two vectors\n",
    "def euclidean_distance(row1, row2):\n",
    "    distance = 0.0\n",
    "    for i in range(len(row1)):\n",
    "        distance += (row1[i] - row2[i])**2\n",
    "    return sqrt(distance)\n",
    "\n",
    "\n",
    "def get_neighbors(train, test_row, num_neighbors):\n",
    "    dis_values = list()\n",
    "    for train_row in train:\n",
    "        dis = euclidean_distance(test_row, train_row)\n",
    "        dis_values.append((train_row, dis))\n",
    "\n",
    "\n",
    "    dis_values.sort(key=lambda tup: tup[1])\n",
    "    list_neighbors = list()\n",
    "    for i in range(num_neighbors):\n",
    "        list_neighbors.append(dis_values[i][0])\n",
    "    return list_neighbors\n",
    "\n",
    "\n",
    "df_list = h_w_df.values.tolist()        #Dataframe to list\n",
    "subject_row = df_list[0]       #Test row\n",
    "height = float(input(\"Enter height\"))\n",
    "weight = float(input(\"Enter weight\"))\n",
    "_ = [height, weight]\n",
    "temp_person_df = pd.DataFrame({'HeightCm': [height],\n",
    "                    'WeightKg' : [weight]})\n",
    "h_w_df = pd.concat([h_w_df, temp_person_df], axis=0, ignore_index=True)\n",
    "\n",
    "#h_w_df = pd.concat(_, axis=0)\n",
    "neighbors = get_neighbors(df_list, _, 3)"
   ],
   "metadata": {
    "collapsed": false,
    "pycharm": {
     "name": "#%%\n"
    }
   }
  },
  {
   "cell_type": "code",
   "execution_count": 232,
   "outputs": [],
   "source": [
    "neighbors_persons = []      #List to fill neighbors as person objects\n",
    "for neighbor in neighbors:\n",
    "    for person in persons:\n",
    "         if all(x in [person.height, person.weight] for x in [neighbor[0], neighbor[1]]):\n",
    "            neighbors_persons.append(person)\n"
   ],
   "metadata": {
    "collapsed": false,
    "pycharm": {
     "name": "#%%\n"
    }
   }
  },
  {
   "cell_type": "code",
   "execution_count": 233,
   "outputs": [
    {
     "name": "stdout",
     "output_type": "stream",
     "text": [
      "XXL\n"
     ]
    }
   ],
   "source": [
    "def return_size():\n",
    "    person_size_v = 0\n",
    "    for person in neighbors_persons:\n",
    "        person_size_v += person.size_value\n",
    "\n",
    "\n",
    "    person_size_v /= len(neighbors_persons)     #Get the average size value\n",
    "    print(values_sizes[round(person_size_v)])\n",
    "\n",
    "return_size()"
   ],
   "metadata": {
    "collapsed": false,
    "pycharm": {
     "name": "#%%\n"
    }
   }
  },
  {
   "cell_type": "code",
   "execution_count": 223,
   "outputs": [
    {
     "data": {
      "text/plain": "    HeightCm    WeightKg\n0     180.34   81.646627\n1     172.72   72.574779\n2     172.72   92.986436\n3     167.64   79.378665\n4     195.58   96.615175\n5     175.26   79.378665\n6     182.88  113.398093\n7     187.96   95.707990\n8     177.80   99.790321\n9     182.88   72.574779\n10    177.80   88.450512\n11    175.26   70.306817\n12    182.88  104.326245\n13    190.50  113.398093\n14    172.72   90.718474\n15    175.26   88.904105\n16    170.18   77.110703\n17    177.80   97.522360\n18    177.80   75.749926\n19    177.80   91.625659\n20    180.34   74.842741\n21    167.64   73.935556\n22    167.64   79.378665\n23    200.66   97.522360\n24    177.80   96.161582\n25    162.56   61.234970\n26    185.42  104.326245\n27    180.34   79.832257\n28    175.26   80.739442\n29    185.42   90.718474\n30    190.50   76.203518\n31    180.34   92.986436\n32    165.10   68.038855\n33    187.96   89.811289\n34    180.34   68.492448\n35    180.34   87.996920\n36    172.72   68.038855\n37    187.96  124.737902\n38    172.72   77.110703\n39    175.26   87.543327\n40    177.80   61.234970\n41    170.18   85.275366\n42    185.42   79.378665\n43    172.72   86.182550\n44    177.80   97.522360\n45    167.64   65.770894\n46    175.26   70.306817\n47    175.26   83.914588\n48    190.50  100.697506\n49    167.64   86.182550\n50    165.00   65.000000\n51    185.00   78.000000",
      "text/html": "<div>\n<style scoped>\n    .dataframe tbody tr th:only-of-type {\n        vertical-align: middle;\n    }\n\n    .dataframe tbody tr th {\n        vertical-align: top;\n    }\n\n    .dataframe thead th {\n        text-align: right;\n    }\n</style>\n<table border=\"1\" class=\"dataframe\">\n  <thead>\n    <tr style=\"text-align: right;\">\n      <th></th>\n      <th>HeightCm</th>\n      <th>WeightKg</th>\n    </tr>\n  </thead>\n  <tbody>\n    <tr>\n      <th>0</th>\n      <td>180.34</td>\n      <td>81.646627</td>\n    </tr>\n    <tr>\n      <th>1</th>\n      <td>172.72</td>\n      <td>72.574779</td>\n    </tr>\n    <tr>\n      <th>2</th>\n      <td>172.72</td>\n      <td>92.986436</td>\n    </tr>\n    <tr>\n      <th>3</th>\n      <td>167.64</td>\n      <td>79.378665</td>\n    </tr>\n    <tr>\n      <th>4</th>\n      <td>195.58</td>\n      <td>96.615175</td>\n    </tr>\n    <tr>\n      <th>5</th>\n      <td>175.26</td>\n      <td>79.378665</td>\n    </tr>\n    <tr>\n      <th>6</th>\n      <td>182.88</td>\n      <td>113.398093</td>\n    </tr>\n    <tr>\n      <th>7</th>\n      <td>187.96</td>\n      <td>95.707990</td>\n    </tr>\n    <tr>\n      <th>8</th>\n      <td>177.80</td>\n      <td>99.790321</td>\n    </tr>\n    <tr>\n      <th>9</th>\n      <td>182.88</td>\n      <td>72.574779</td>\n    </tr>\n    <tr>\n      <th>10</th>\n      <td>177.80</td>\n      <td>88.450512</td>\n    </tr>\n    <tr>\n      <th>11</th>\n      <td>175.26</td>\n      <td>70.306817</td>\n    </tr>\n    <tr>\n      <th>12</th>\n      <td>182.88</td>\n      <td>104.326245</td>\n    </tr>\n    <tr>\n      <th>13</th>\n      <td>190.50</td>\n      <td>113.398093</td>\n    </tr>\n    <tr>\n      <th>14</th>\n      <td>172.72</td>\n      <td>90.718474</td>\n    </tr>\n    <tr>\n      <th>15</th>\n      <td>175.26</td>\n      <td>88.904105</td>\n    </tr>\n    <tr>\n      <th>16</th>\n      <td>170.18</td>\n      <td>77.110703</td>\n    </tr>\n    <tr>\n      <th>17</th>\n      <td>177.80</td>\n      <td>97.522360</td>\n    </tr>\n    <tr>\n      <th>18</th>\n      <td>177.80</td>\n      <td>75.749926</td>\n    </tr>\n    <tr>\n      <th>19</th>\n      <td>177.80</td>\n      <td>91.625659</td>\n    </tr>\n    <tr>\n      <th>20</th>\n      <td>180.34</td>\n      <td>74.842741</td>\n    </tr>\n    <tr>\n      <th>21</th>\n      <td>167.64</td>\n      <td>73.935556</td>\n    </tr>\n    <tr>\n      <th>22</th>\n      <td>167.64</td>\n      <td>79.378665</td>\n    </tr>\n    <tr>\n      <th>23</th>\n      <td>200.66</td>\n      <td>97.522360</td>\n    </tr>\n    <tr>\n      <th>24</th>\n      <td>177.80</td>\n      <td>96.161582</td>\n    </tr>\n    <tr>\n      <th>25</th>\n      <td>162.56</td>\n      <td>61.234970</td>\n    </tr>\n    <tr>\n      <th>26</th>\n      <td>185.42</td>\n      <td>104.326245</td>\n    </tr>\n    <tr>\n      <th>27</th>\n      <td>180.34</td>\n      <td>79.832257</td>\n    </tr>\n    <tr>\n      <th>28</th>\n      <td>175.26</td>\n      <td>80.739442</td>\n    </tr>\n    <tr>\n      <th>29</th>\n      <td>185.42</td>\n      <td>90.718474</td>\n    </tr>\n    <tr>\n      <th>30</th>\n      <td>190.50</td>\n      <td>76.203518</td>\n    </tr>\n    <tr>\n      <th>31</th>\n      <td>180.34</td>\n      <td>92.986436</td>\n    </tr>\n    <tr>\n      <th>32</th>\n      <td>165.10</td>\n      <td>68.038855</td>\n    </tr>\n    <tr>\n      <th>33</th>\n      <td>187.96</td>\n      <td>89.811289</td>\n    </tr>\n    <tr>\n      <th>34</th>\n      <td>180.34</td>\n      <td>68.492448</td>\n    </tr>\n    <tr>\n      <th>35</th>\n      <td>180.34</td>\n      <td>87.996920</td>\n    </tr>\n    <tr>\n      <th>36</th>\n      <td>172.72</td>\n      <td>68.038855</td>\n    </tr>\n    <tr>\n      <th>37</th>\n      <td>187.96</td>\n      <td>124.737902</td>\n    </tr>\n    <tr>\n      <th>38</th>\n      <td>172.72</td>\n      <td>77.110703</td>\n    </tr>\n    <tr>\n      <th>39</th>\n      <td>175.26</td>\n      <td>87.543327</td>\n    </tr>\n    <tr>\n      <th>40</th>\n      <td>177.80</td>\n      <td>61.234970</td>\n    </tr>\n    <tr>\n      <th>41</th>\n      <td>170.18</td>\n      <td>85.275366</td>\n    </tr>\n    <tr>\n      <th>42</th>\n      <td>185.42</td>\n      <td>79.378665</td>\n    </tr>\n    <tr>\n      <th>43</th>\n      <td>172.72</td>\n      <td>86.182550</td>\n    </tr>\n    <tr>\n      <th>44</th>\n      <td>177.80</td>\n      <td>97.522360</td>\n    </tr>\n    <tr>\n      <th>45</th>\n      <td>167.64</td>\n      <td>65.770894</td>\n    </tr>\n    <tr>\n      <th>46</th>\n      <td>175.26</td>\n      <td>70.306817</td>\n    </tr>\n    <tr>\n      <th>47</th>\n      <td>175.26</td>\n      <td>83.914588</td>\n    </tr>\n    <tr>\n      <th>48</th>\n      <td>190.50</td>\n      <td>100.697506</td>\n    </tr>\n    <tr>\n      <th>49</th>\n      <td>167.64</td>\n      <td>86.182550</td>\n    </tr>\n    <tr>\n      <th>50</th>\n      <td>165.00</td>\n      <td>65.000000</td>\n    </tr>\n    <tr>\n      <th>51</th>\n      <td>185.00</td>\n      <td>78.000000</td>\n    </tr>\n  </tbody>\n</table>\n</div>"
     },
     "execution_count": 223,
     "metadata": {},
     "output_type": "execute_result"
    }
   ],
   "source": [
    "h_w_df"
   ],
   "metadata": {
    "collapsed": false,
    "pycharm": {
     "name": "#%%\n"
    }
   }
  },
  {
   "cell_type": "code",
   "execution_count": null,
   "outputs": [],
   "source": [],
   "metadata": {
    "collapsed": false,
    "pycharm": {
     "name": "#%%\n"
    }
   }
  }
 ],
 "metadata": {
  "kernelspec": {
   "display_name": "Python 3",
   "language": "python",
   "name": "python3"
  },
  "language_info": {
   "codemirror_mode": {
    "name": "ipython",
    "version": 2
   },
   "file_extension": ".py",
   "mimetype": "text/x-python",
   "name": "python",
   "nbconvert_exporter": "python",
   "pygments_lexer": "ipython2",
   "version": "2.7.6"
  }
 },
 "nbformat": 4,
 "nbformat_minor": 0
}